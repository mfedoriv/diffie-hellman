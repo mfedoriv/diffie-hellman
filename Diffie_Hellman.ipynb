{
 "cells": [
  {
   "cell_type": "markdown",
   "metadata": {},
   "source": [
    "## Криптографические протоколы"
   ]
  },
  {
   "cell_type": "markdown",
   "metadata": {},
   "source": [
    "### Цель работы:"
   ]
  },
  {
   "cell_type": "markdown",
   "metadata": {},
   "source": [
    "Реализовать протокол совместной выработки сеансового ключа Diffie-Hellman.\n",
    "Требования к работе:\n",
    " * Разработка двух независимых модулей-участников протокола.\n",
    " * Реализовать атаку «человека посередине»\n",
    " * Отчет должен содержать описание протокола с указанием особенностей реализации, примеры работы программы."
   ]
  },
  {
   "cell_type": "markdown",
   "metadata": {},
   "source": [
    "### Ход работы:"
   ]
  },
  {
   "cell_type": "markdown",
   "metadata": {},
   "source": [
    "**Протокол Диффи — Хеллмана (англ. Diffie–Hellman, DH)** — криптографический протокол, позволяющий двум и более сторонам получить общий секретный ключ, используя незащищенный от прослушивания канал связи. Полученный ключ используется для шифрования дальнейшего обмена с помощью алгоритмов симметричного шифрования."
   ]
  },
  {
   "cell_type": "markdown",
   "metadata": {},
   "source": [
    "#### Реализация на языке Python"
   ]
  },
  {
   "cell_type": "code",
   "execution_count": 1,
   "metadata": {},
   "outputs": [],
   "source": [
    "class DiffieHellman:\n",
    "    def __init__(self, g, p, private_key):\n",
    "        self.g = g\n",
    "        self.p = p\n",
    "        self.private_key = private_key\n",
    "        self.full_key = None\n",
    "\n",
    "    def generate_public_key(self):\n",
    "        public_key = (self.g ** self.private_key) % self.p\n",
    "        return public_key\n",
    "\n",
    "    def generate_full_key(self, public_key):\n",
    "        full_key = (public_key ** self.private_key) % self.p\n",
    "        self.full_key = full_key\n",
    "        return full_key\n",
    "\n",
    "    def encrypt_message(self, message):\n",
    "        encrypted_message = \"\"\n",
    "        for c in message:\n",
    "            encrypted_message += chr(ord(c) + self.full_key)\n",
    "        return encrypted_message\n",
    "\n",
    "    def decrypt_message(self, encrypted_message):\n",
    "        decrypted_message = \"\"\n",
    "        for c in encrypted_message:\n",
    "            decrypted_message += chr(ord(c) - self.full_key)\n",
    "        return decrypted_message\n",
    "    \n",
    "    def __str__(self):\n",
    "        return f'g = {self.g}\\np = {self.p}\\nprivate_key = {self.private_key}\\nfull_key = {self.full_key}'"
   ]
  },
  {
   "cell_type": "markdown",
   "metadata": {},
   "source": [
    "В классе **DiffieHellman** представлены следующие методы:\n",
    "\n",
    "`__init__(self, g, p, private_key)` - конструктор для создания абонента;\n",
    "\n",
    "`generate_public_key(self)` - метод генерации публичного ключа;\n",
    "\n",
    "`generate_full_key(self, public_key)` - метод генерации полного общего ключа, принимающий в качестве параметра публичный ключ;\n",
    "\n",
    "`encrypt_message(self, message)` - метод шифрования сообщения на основе шифра простой замены (сдвига);\n",
    "\n",
    "`decrypt_message(self, encrypted_message)` - метод дешифрования сообщения на основе шифра простой замены (сдвига);\n",
    "\n",
    "`__str__(self)` - метод для вывода полной информации об абоненте"
   ]
  },
  {
   "cell_type": "markdown",
   "metadata": {},
   "source": [
    "Зададим исходные параметры"
   ]
  },
  {
   "cell_type": "code",
   "execution_count": 2,
   "metadata": {},
   "outputs": [],
   "source": [
    "message = \"Secret message\"\n",
    "g = 2\n",
    "p = 211\n",
    "a = 23\n",
    "b = 31"
   ]
  },
  {
   "cell_type": "code",
   "execution_count": 3,
   "metadata": {},
   "outputs": [],
   "source": [
    "alice = DiffieHellman(g, p, a)\n",
    "bob = DiffieHellman(g, p, b)"
   ]
  },
  {
   "cell_type": "markdown",
   "metadata": {},
   "source": [
    "Вычисление публичных ключей"
   ]
  },
  {
   "cell_type": "markdown",
   "metadata": {},
   "source": [
    "$$ga = g^a mod p$$"
   ]
  },
  {
   "cell_type": "code",
   "execution_count": 4,
   "metadata": {},
   "outputs": [],
   "source": [
    "ga = alice.generate_public_key()"
   ]
  },
  {
   "cell_type": "code",
   "execution_count": 5,
   "metadata": {},
   "outputs": [
    {
     "data": {
      "text/plain": [
       "92"
      ]
     },
     "execution_count": 5,
     "metadata": {},
     "output_type": "execute_result"
    }
   ],
   "source": [
    "ga"
   ]
  },
  {
   "cell_type": "markdown",
   "metadata": {},
   "source": [
    "$$gb = g^b mod p$$"
   ]
  },
  {
   "cell_type": "code",
   "execution_count": 6,
   "metadata": {},
   "outputs": [],
   "source": [
    "gb = bob.generate_public_key()"
   ]
  },
  {
   "cell_type": "code",
   "execution_count": 7,
   "metadata": {},
   "outputs": [
    {
     "data": {
      "text/plain": [
       "131"
      ]
     },
     "execution_count": 7,
     "metadata": {},
     "output_type": "execute_result"
    }
   ],
   "source": [
    "gb"
   ]
  },
  {
   "cell_type": "markdown",
   "metadata": {},
   "source": [
    "Обмен публичными ключами и генерация общего секретного ключа"
   ]
  },
  {
   "cell_type": "markdown",
   "metadata": {},
   "source": [
    "$$K_a = gb^a mod p = g^{ab} mod p$$"
   ]
  },
  {
   "cell_type": "code",
   "execution_count": 8,
   "metadata": {},
   "outputs": [],
   "source": [
    "alice_full_key = alice.generate_full_key(gb)"
   ]
  },
  {
   "cell_type": "code",
   "execution_count": 9,
   "metadata": {},
   "outputs": [
    {
     "data": {
      "text/plain": [
       "133"
      ]
     },
     "execution_count": 9,
     "metadata": {},
     "output_type": "execute_result"
    }
   ],
   "source": [
    "alice_full_key"
   ]
  },
  {
   "cell_type": "markdown",
   "metadata": {},
   "source": [
    "$$K_b = ga^b mod p = g^{ab} mod p$$"
   ]
  },
  {
   "cell_type": "code",
   "execution_count": 10,
   "metadata": {},
   "outputs": [],
   "source": [
    "bob_full_key = bob.generate_full_key(ga)"
   ]
  },
  {
   "cell_type": "code",
   "execution_count": 11,
   "metadata": {},
   "outputs": [
    {
     "data": {
      "text/plain": [
       "133"
      ]
     },
     "execution_count": 11,
     "metadata": {},
     "output_type": "execute_result"
    }
   ],
   "source": [
    "bob_full_key"
   ]
  },
  {
   "cell_type": "markdown",
   "metadata": {},
   "source": [
    "Таким образом можно заметить, что ключи Алисы и Боба одинаковы\n",
    "\n",
    "$$K = g^{ab} mod p$$"
   ]
  },
  {
   "cell_type": "markdown",
   "metadata": {},
   "source": [
    "Обмен сообщениями с помощью общего секретного ключа. Для демонстрации используется шифр простой замены."
   ]
  },
  {
   "cell_type": "code",
   "execution_count": 12,
   "metadata": {},
   "outputs": [],
   "source": [
    "encrypted_message = alice.encrypt_message(message)"
   ]
  },
  {
   "cell_type": "code",
   "execution_count": 13,
   "metadata": {},
   "outputs": [
    {
     "data": {
      "text/plain": [
       "'Øêè÷êù¥òêøøæìê'"
      ]
     },
     "execution_count": 13,
     "metadata": {},
     "output_type": "execute_result"
    }
   ],
   "source": [
    "encrypted_message"
   ]
  },
  {
   "cell_type": "code",
   "execution_count": 14,
   "metadata": {},
   "outputs": [],
   "source": [
    "decrypted_message = bob.decrypt_message(encrypted_message)"
   ]
  },
  {
   "cell_type": "code",
   "execution_count": 15,
   "metadata": {},
   "outputs": [
    {
     "data": {
      "text/plain": [
       "'Secret message'"
      ]
     },
     "execution_count": 15,
     "metadata": {},
     "output_type": "execute_result"
    }
   ],
   "source": [
    "decrypted_message"
   ]
  },
  {
   "cell_type": "markdown",
   "metadata": {},
   "source": [
    "### Атака \"человек посередине\""
   ]
  },
  {
   "cell_type": "markdown",
   "metadata": {},
   "source": [
    "**Атака «человек посередине» (англ. Man in the middle (MITM))** — вид атаки в криптографии и компьютерной безопасности, когда злоумышленник тайно ретранслирует и при необходимости изменяет связь между двумя сторонами, которые считают, что они непосредственно общаются друг с другом. Является методом компрометации канала связи, при котором взломщик, подключившись к каналу между контрагентами, осуществляет вмешательство в протокол передачи, удаляя или искажая информацию."
   ]
  },
  {
   "cell_type": "markdown",
   "metadata": {},
   "source": [
    "Ни Алиса, ни Боб не могут достоверно определить, кем является их собеседник, поэтому вполне возможно представить случай, при котором Боб и Алиса установили связь с Евой, которая Алисе выдает себя за Боба, а Бобу представляется Алисой."
   ]
  },
  {
   "cell_type": "markdown",
   "metadata": {},
   "source": [
    "У Евы есть свои секретные ключи для общения с Бобом (eve_a) и Алисой (eve_b)"
   ]
  },
  {
   "cell_type": "code",
   "execution_count": 16,
   "metadata": {},
   "outputs": [],
   "source": [
    "message2 = \"New secret message\"\n",
    "eve_a = 13\n",
    "eve_b = 27"
   ]
  },
  {
   "cell_type": "markdown",
   "metadata": {},
   "source": [
    "Ева генерирует публичные ключи"
   ]
  },
  {
   "cell_type": "code",
   "execution_count": 17,
   "metadata": {},
   "outputs": [],
   "source": [
    "eve_ga = (g ** eve_a) % p\n",
    "eve_gb = (g ** eve_b) % p"
   ]
  },
  {
   "cell_type": "markdown",
   "metadata": {},
   "source": [
    "Передаёт их Алисе и Бобу, которые генерируют общие секретные ключи. Но в данном случае они не будут одинаковыми, так как Ева имеет один общий ключ с Алисой (которая считает, что это Боб) и один общий ключ с Бобом (который считает, что это Алиса). А, следовательно, она может получать от Алисы любое сообщение для Боба, расшифровать его ключом, прочитать, изменить, зашифровать ключом и передать Бобу. Таким образом, подлог может оставаться незамеченным очень долгое время."
   ]
  },
  {
   "cell_type": "code",
   "execution_count": 18,
   "metadata": {},
   "outputs": [],
   "source": [
    "eve_alice_full_key = alice.generate_full_key(eve_gb)"
   ]
  },
  {
   "cell_type": "code",
   "execution_count": 19,
   "metadata": {},
   "outputs": [
    {
     "data": {
      "text/plain": [
       "68"
      ]
     },
     "execution_count": 19,
     "metadata": {},
     "output_type": "execute_result"
    }
   ],
   "source": [
    "eve_alice_full_key"
   ]
  },
  {
   "cell_type": "code",
   "execution_count": 20,
   "metadata": {},
   "outputs": [],
   "source": [
    "eve_bob_full_key = bob.generate_full_key(eve_ga)"
   ]
  },
  {
   "cell_type": "code",
   "execution_count": 21,
   "metadata": {},
   "outputs": [
    {
     "data": {
      "text/plain": [
       "175"
      ]
     },
     "execution_count": 21,
     "metadata": {},
     "output_type": "execute_result"
    }
   ],
   "source": [
    "eve_bob_full_key"
   ]
  },
  {
   "cell_type": "code",
   "execution_count": 22,
   "metadata": {},
   "outputs": [
    {
     "name": "stdout",
     "output_type": "stream",
     "text": [
      "g = 2\n",
      "p = 211\n",
      "private_key = 23\n",
      "full_key = 68\n"
     ]
    }
   ],
   "source": [
    "print(alice)"
   ]
  },
  {
   "cell_type": "code",
   "execution_count": 23,
   "metadata": {},
   "outputs": [
    {
     "name": "stdout",
     "output_type": "stream",
     "text": [
      "g = 2\n",
      "p = 211\n",
      "private_key = 31\n",
      "full_key = 175\n"
     ]
    }
   ],
   "source": [
    "print(bob)"
   ]
  },
  {
   "cell_type": "markdown",
   "metadata": {},
   "source": [
    "Алиса шифрует сообщение с помощью своего полного секретного ключа"
   ]
  },
  {
   "cell_type": "code",
   "execution_count": 24,
   "metadata": {},
   "outputs": [],
   "source": [
    "encrypted_message2 = alice.encrypt_message(message2)"
   ]
  },
  {
   "cell_type": "code",
   "execution_count": 25,
   "metadata": {},
   "outputs": [
    {
     "data": {
      "text/plain": [
       "'\\x92©»d·©§¶©¸d±©··¥«©'"
      ]
     },
     "execution_count": 25,
     "metadata": {},
     "output_type": "execute_result"
    }
   ],
   "source": [
    "encrypted_message2"
   ]
  },
  {
   "cell_type": "markdown",
   "metadata": {},
   "source": [
    "Ева дешифрует сообщение Алисы и читает его"
   ]
  },
  {
   "cell_type": "code",
   "execution_count": 26,
   "metadata": {},
   "outputs": [],
   "source": [
    "eve_decrypted_message = \"\"\n",
    "for c in encrypted_message2:\n",
    "    eve_decrypted_message += chr(ord(c) - eve_alice_full_key)"
   ]
  },
  {
   "cell_type": "code",
   "execution_count": 27,
   "metadata": {},
   "outputs": [
    {
     "data": {
      "text/plain": [
       "'New secret message'"
      ]
     },
     "execution_count": 27,
     "metadata": {},
     "output_type": "execute_result"
    }
   ],
   "source": [
    "eve_decrypted_message"
   ]
  },
  {
   "cell_type": "markdown",
   "metadata": {},
   "source": [
    "Ева изменяет сообщение Алисы и шифрует его общим ключом с Бобом"
   ]
  },
  {
   "cell_type": "code",
   "execution_count": 28,
   "metadata": {},
   "outputs": [],
   "source": [
    "eve_message = \"Compromised secret message\"\n",
    "eve_encrypted_message = \"\"\n",
    "for c in eve_message:\n",
    "    eve_encrypted_message += chr(ord(c) + eve_bob_full_key)"
   ]
  },
  {
   "cell_type": "code",
   "execution_count": 29,
   "metadata": {},
   "outputs": [
    {
     "data": {
      "text/plain": [
       "'òĞĜğġĞĜĘĢĔēÏĢĔĒġĔģÏĜĔĢĢĐĖĔ'"
      ]
     },
     "execution_count": 29,
     "metadata": {},
     "output_type": "execute_result"
    }
   ],
   "source": [
    "eve_encrypted_message"
   ]
  },
  {
   "cell_type": "markdown",
   "metadata": {},
   "source": [
    "Боб дешифрует сообщение и получает совсем не то, что отправляла ему Алиса, а сообщение, отправленное Евой."
   ]
  },
  {
   "cell_type": "code",
   "execution_count": 30,
   "metadata": {},
   "outputs": [],
   "source": [
    "decrypted_message2 = bob.decrypt_message(eve_encrypted_message)"
   ]
  },
  {
   "cell_type": "code",
   "execution_count": 31,
   "metadata": {},
   "outputs": [
    {
     "data": {
      "text/plain": [
       "'Compromised secret message'"
      ]
     },
     "execution_count": 31,
     "metadata": {},
     "output_type": "execute_result"
    }
   ],
   "source": [
    "decrypted_message2"
   ]
  },
  {
   "cell_type": "markdown",
   "metadata": {},
   "source": [
    "### Выводы"
   ]
  },
  {
   "cell_type": "markdown",
   "metadata": {},
   "source": [
    "Реализован протокол совместной выработки сеансового ключа Diffie-Hellman на языке Python. Также реализована атака \"человек посередине\", вследствие чего установлено, что протокол Diffie-Hellman уязвим к данной атаке. Поэтому для его использования необходимо использовать дополнительные методы защиты (цифровая подпись, хэш-функция и т.д.)."
   ]
  }
 ],
 "metadata": {
  "kernelspec": {
   "display_name": "Python (base)",
   "language": "python",
   "name": "myenv"
  },
  "language_info": {
   "codemirror_mode": {
    "name": "ipython",
    "version": 3
   },
   "file_extension": ".py",
   "mimetype": "text/x-python",
   "name": "python",
   "nbconvert_exporter": "python",
   "pygments_lexer": "ipython3",
   "version": "3.8.5"
  }
 },
 "nbformat": 4,
 "nbformat_minor": 4
}
